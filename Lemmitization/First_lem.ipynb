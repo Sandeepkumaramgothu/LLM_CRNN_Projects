{
 "cells": [
  {
   "cell_type": "markdown",
   "id": "2b6685d2",
   "metadata": {},
   "source": [
    "Wordnet lemmatizer\n",
    "\n",
    "Lemmtization technique is like stemming. The output we will get after lemmatization is called 'lemma', which is a root word rather than root stem, the output of stemming. After lemmatization, we will be getting a valid word that means the same thing\n",
    "\n",
    "NLTK provides WordNetLemmatizer class which is a thin wrapper around the wordnet corpus. This class uses morphy() function to the Wordnet CorpusReader class to find a lemma. "
   ]
  },
  {
   "cell_type": "code",
   "execution_count": 1,
   "id": "a7cf7ad1",
   "metadata": {},
   "outputs": [],
   "source": [
    "from nltk.stem import WordNetLemmatizer\n",
    "from nltk.corpus import wordnet as wn\n",
    "from nltk.tokenize import word_tokenize         \n",
    "from nltk import pos_tag\n",
    "from nltk import ne_chunk\n",
    "import nltk\n",
    "import re\n",
    "import string\n",
    "import pandas as pd\n",
    "import numpy as np\n",
    "import matplotlib.pyplot as plt"
   ]
  },
  {
   "cell_type": "code",
   "execution_count": 6,
   "id": "0095805b",
   "metadata": {},
   "outputs": [
    {
     "name": "stderr",
     "output_type": "stream",
     "text": [
      "[nltk_data] Downloading package wordnet to\n",
      "[nltk_data]     C:\\Users\\sande\\AppData\\Roaming\\nltk_data...\n",
      "[nltk_data] Downloading package averaged_perceptron_tagger to\n",
      "[nltk_data]     C:\\Users\\sande\\AppData\\Roaming\\nltk_data...\n",
      "[nltk_data]   Package averaged_perceptron_tagger is already up-to-\n",
      "[nltk_data]       date!\n",
      "[nltk_data] Downloading package punkt to\n",
      "[nltk_data]     C:\\Users\\sande\\AppData\\Roaming\\nltk_data...\n",
      "[nltk_data]   Package punkt is already up-to-date!\n"
     ]
    },
    {
     "data": {
      "text/plain": [
       "True"
      ]
     },
     "execution_count": 6,
     "metadata": {},
     "output_type": "execute_result"
    }
   ],
   "source": [
    "Lemmatizer = WordNetLemmatizer()\n",
    "nltk.download('wordnet')\n",
    "\n",
    "nltk.download('averaged_perceptron_tagger')\n",
    "nltk.download('punkt')  "
   ]
  },
  {
   "cell_type": "code",
   "execution_count": 7,
   "id": "e1510dbd",
   "metadata": {},
   "outputs": [
    {
     "data": {
      "text/plain": [
       "'running'"
      ]
     },
     "execution_count": 7,
     "metadata": {},
     "output_type": "execute_result"
    }
   ],
   "source": [
    "Lemmatizer.lemmatize(\"running\")\n"
   ]
  },
  {
   "cell_type": "code",
   "execution_count": null,
   "id": "3451ef3f",
   "metadata": {},
   "outputs": [],
   "source": [
    "'''\n",
    "POS tagging\n",
    "POS tagging is the process of assigning a part of speech to each word in a sentence. The part of speech can be a noun, verb, adjective, adverb, etc. This is important for understanding the meaning of the sentence and for further processing tasks such as named entity recognition or sentiment analysis.\n",
    "The nltk library provides a pos_tag function that can be used to perform POS tagging. The function takes a list of words as input and returns a list of tuples, where each tuple contains a word and its corresponding part of speech tag.  \n",
    "noun: NN, NNS, NNP, NNPS, n\n",
    "verb: VB, VBD, VBG, VBN, VBP, VBZ  , v \n",
    "adjective: JJ, JJR, JJS, a\n",
    "adverb: RB, RBR, RBS, r\n",
    "'''"
   ]
  },
  {
   "cell_type": "code",
   "execution_count": 8,
   "id": "59bbad93",
   "metadata": {},
   "outputs": [
    {
     "name": "stdout",
     "output_type": "stream",
     "text": [
      "['finalized', 'finally', 'apple', 'banana', 'cherry', 'date', 'fig', 'grape']\n"
     ]
    }
   ],
   "source": [
    "words = [\"finalized\",\"finally\", \"apple\", \"banana\", \"cherry\", \"date\", \"fig\", \"grape\"]\n",
    "print(words)"
   ]
  },
  {
   "cell_type": "code",
   "execution_count": 9,
   "id": "f62ce3e1",
   "metadata": {},
   "outputs": [
    {
     "name": "stdout",
     "output_type": "stream",
     "text": [
      "['finalized---->finalized', 'finally---->finally', 'apple---->apple', 'banana---->banana', 'cherry---->cherry', 'date---->date', 'fig---->fig', 'grape---->grape']\n"
     ]
    }
   ],
   "source": [
    "stems = [word+\"---->\"+Lemmatizer.lemmatize(word,pos='n') for word in words]\n",
    "print(stems)"
   ]
  },
  {
   "cell_type": "code",
   "execution_count": 10,
   "id": "b03b524a",
   "metadata": {},
   "outputs": [
    {
     "name": "stdout",
     "output_type": "stream",
     "text": [
      "['finalized---->finalize', 'finally---->finally', 'apple---->apple', 'banana---->banana', 'cherry---->cherry', 'date---->date', 'fig---->fig', 'grape---->grape']\n"
     ]
    }
   ],
   "source": [
    "stems = [word+\"---->\"+Lemmatizer.lemmatize(word,pos='v') for word in words]\n",
    "print(stems)"
   ]
  },
  {
   "cell_type": "code",
   "execution_count": 11,
   "id": "5ccfaa69",
   "metadata": {},
   "outputs": [
    {
     "name": "stdout",
     "output_type": "stream",
     "text": [
      "['finalized---->finalized', 'finally---->finally', 'apple---->apple', 'banana---->banana', 'cherry---->cherry', 'date---->date', 'fig---->fig', 'grape---->grape']\n"
     ]
    }
   ],
   "source": [
    "stems = [word+\"---->\"+Lemmatizer.lemmatize(word,pos='a') for word in words]\n",
    "print(stems)"
   ]
  },
  {
   "cell_type": "code",
   "execution_count": 13,
   "id": "96a1d826",
   "metadata": {},
   "outputs": [
    {
     "name": "stdout",
     "output_type": "stream",
     "text": [
      "run\n",
      "running\n"
     ]
    }
   ],
   "source": [
    "print(Lemmatizer.lemmatize('running', pos='v'))# Example of lemmatization\n",
    "print(Lemmatizer.lemmatize('running', pos='n')) # Example of lemmatization "
   ]
  },
  {
   "cell_type": "code",
   "execution_count": 15,
   "id": "dee895a4",
   "metadata": {},
   "outputs": [
    {
     "data": {
      "text/plain": [
       "('fairly', 'sportly', 'fairly')"
      ]
     },
     "execution_count": 15,
     "metadata": {},
     "output_type": "execute_result"
    }
   ],
   "source": [
    "Lemmatizer.lemmatize(\"fairly\"), Lemmatizer.lemmatize(\"sportly\", pos='a'), Lemmatizer.lemmatize(\"fairly\", pos='r') # Example of lemmatization\n"
   ]
  },
  {
   "cell_type": "markdown",
   "id": "2b94d0e4",
   "metadata": {},
   "source": [
    "For  Q and A chat bots and text summerization this is used."
   ]
  },
  {
   "cell_type": "code",
   "execution_count": null,
   "id": "e21f171d",
   "metadata": {},
   "outputs": [],
   "source": []
  },
  {
   "cell_type": "code",
   "execution_count": null,
   "id": "7b3382f0",
   "metadata": {},
   "outputs": [],
   "source": []
  },
  {
   "cell_type": "code",
   "execution_count": null,
   "id": "8a5b18c3",
   "metadata": {},
   "outputs": [],
   "source": []
  },
  {
   "cell_type": "code",
   "execution_count": null,
   "id": "cbd6a3ff",
   "metadata": {},
   "outputs": [],
   "source": []
  }
 ],
 "metadata": {
  "kernelspec": {
   "display_name": "Python 3",
   "language": "python",
   "name": "python3"
  },
  "language_info": {
   "codemirror_mode": {
    "name": "ipython",
    "version": 3
   },
   "file_extension": ".py",
   "mimetype": "text/x-python",
   "name": "python",
   "nbconvert_exporter": "python",
   "pygments_lexer": "ipython3",
   "version": "3.11.9"
  }
 },
 "nbformat": 4,
 "nbformat_minor": 5
}
